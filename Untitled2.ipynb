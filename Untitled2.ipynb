{
  "nbformat": 4,
  "nbformat_minor": 0,
  "metadata": {
    "colab": {
      "provenance": [],
      "authorship_tag": "ABX9TyN6HMx4jndi9KqmmvaxQKr9",
      "include_colab_link": true
    },
    "kernelspec": {
      "name": "python3",
      "display_name": "Python 3"
    },
    "language_info": {
      "name": "python"
    }
  },
  "cells": [
    {
      "cell_type": "markdown",
      "metadata": {
        "id": "view-in-github",
        "colab_type": "text"
      },
      "source": [
        "<a href=\"https://colab.research.google.com/github/jaeyoung1122/BP_10_Ch5/blob/main/Untitled2.ipynb\" target=\"_parent\"><img src=\"https://colab.research.google.com/assets/colab-badge.svg\" alt=\"Open In Colab\"/></a>"
      ]
    },
    {
      "cell_type": "code",
      "source": [
        "age = 20\n",
        "if age < 20:\n",
        "   print('20살 미만')\n",
        "else:\n",
        "  print('20살 이상')\n",
        "  age = 20\n",
        "if age >= 30 and age <=50:\n",
        "     print('30살 이상이고 50살 이하')"
      ],
      "metadata": {
        "colab": {
          "base_uri": "https://localhost:8080/"
        },
        "id": "MLulok5s74dn",
        "outputId": "828c6eb9-a57d-4308-dc48-6c75345ae275"
      },
      "execution_count": 9,
      "outputs": [
        {
          "output_type": "stream",
          "name": "stdout",
          "text": [
            "20살 이상\n"
          ]
        }
      ]
    },
    {
      "cell_type": "code",
      "source": [
        "temp = int(input(\"현재 온도를 입력하시오: \"))\n",
        "if temp >= 25:\n",
        " print(\"반바지를 입으세요\")\n",
        "else:\n",
        " print(\"긴바지를 입으세요\")"
      ],
      "metadata": {
        "colab": {
          "base_uri": "https://localhost:8080/"
        },
        "id": "8-bEcdni8Ukq",
        "outputId": "2b128c1e-bb03-430d-a407-d807e51259a5"
      },
      "execution_count": 10,
      "outputs": [
        {
          "output_type": "stream",
          "name": "stdout",
          "text": [
            "현재 온도를 입력하시오: 10\n",
            "긴바지를 입으세요\n"
          ]
        }
      ]
    },
    {
      "cell_type": "code",
      "source": [
        "score = int(input(\"성적을 입력하시오: \"))\n",
        "if score >= 90:\n",
        " print(\"A학점입니다.\")\n",
        "elif score >= 80:\n",
        " print(\"B학점입니다.\")\n",
        "elif score >= 70:\n",
        " print(\"C학점입니다.\")\n",
        "elif score >= 60:\n",
        " print(\"D학점입니다.\")\n",
        "else :\n",
        " print(\"F학점입니다.\")"
      ],
      "metadata": {
        "colab": {
          "base_uri": "https://localhost:8080/"
        },
        "id": "NoaQerrK8nXf",
        "outputId": "5a472bf9-a8d2-4d98-e62a-dc08baea7724"
      },
      "execution_count": 11,
      "outputs": [
        {
          "output_type": "stream",
          "name": "stdout",
          "text": [
            "성적을 입력하시오: 99\n",
            "A학점입니다.\n"
          ]
        }
      ]
    },
    {
      "cell_type": "code",
      "source": [
        "import random\n",
        "x = random.randint(1, 100)\n",
        "y = random.randint(1, 100)\n",
        "ans = int(input(str(x)+\"-\"+str(y)+\"=\"))\n",
        "if ans == x -y :\n",
        " print(\"맞았습니다.\")\n",
        "else :\n",
        " print(\"틀렸습니다.\")"
      ],
      "metadata": {
        "colab": {
          "base_uri": "https://localhost:8080/"
        },
        "id": "8vghrPxM8vC0",
        "outputId": "0bc898e6-ddbe-4f33-e547-c312288f3565"
      },
      "execution_count": 13,
      "outputs": [
        {
          "output_type": "stream",
          "name": "stdout",
          "text": [
            "62-18=44\n",
            "맞았습니다.\n"
          ]
        }
      ]
    },
    {
      "cell_type": "code",
      "source": [
        "n = int(input(\"정수를 입력하시오: \"))\n",
        "if n%2==0 and n%3==0:\n",
        " print(\"2와 3으로 나누어 떨어집니다.\")\n",
        "else :\n",
        " print(\"2와 3으로 나누어 떨어지지 않습니다.\")"
      ],
      "metadata": {
        "colab": {
          "base_uri": "https://localhost:8080/"
        },
        "id": "4ragooj1-7jX",
        "outputId": "942a9582-dbb2-4eda-e0fc-3a89469ed95a"
      },
      "execution_count": 14,
      "outputs": [
        {
          "output_type": "stream",
          "name": "stdout",
          "text": [
            "정수를 입력하시오: 12\n",
            "2와 3으로 나누어 떨어집니다.\n"
          ]
        }
      ]
    },
    {
      "cell_type": "code",
      "source": [
        "import random\n",
        "solution = random.randint(0, 99)\n",
        "user = int(input(\"복권번호를 입력하시요(0에서 99사이): \"))\n",
        "digit1 = solution // 10\n",
        "digit2 = solution % 10\n",
        "u_digit1 = user // 10\n",
        "u_digit2 = user % 10\n",
        "print(\"당첨번호는\", solution, \"입니다.\")\n",
        "if (digit1 == u_digit1 and digit2 == u_digit2):\n",
        " print(\"상금은 100만원입니다.\")\n",
        "elif (digit1 == u_digit1\n",
        " or digit1 == u_digit2\n",
        " or digit2 == u_digit1\n",
        " or digit2 == u_digit2):\n",
        " print(\"상금은 50만원입니다.\")\n",
        "else:\n",
        " print(\"상금은 없습니다.\")"
      ],
      "metadata": {
        "colab": {
          "base_uri": "https://localhost:8080/"
        },
        "id": "0wr3k07h_0vo",
        "outputId": "39b31412-c082-463d-ed73-a0cc462555d9"
      },
      "execution_count": 88,
      "outputs": [
        {
          "output_type": "stream",
          "name": "stdout",
          "text": [
            "복권번호를 입력하시요(0에서 99사이): 61\n",
            "당첨번호는 61 입니다.\n",
            "상금은 100만원입니다.\n"
          ]
        }
      ]
    },
    {
      "cell_type": "code",
      "source": [
        "import turtle\n",
        "t = turtle.Turtle()\n",
        "t.shape(\"turtle\")\n",
        "x1 = int(input(\"큰 원의 중심좌표 x1: \"))\n",
        "y1 = int(input(\"큰 원의 중심좌표 y1: \"))\n",
        "r1 = int(input(\"큰 원의 반지름: \"))\n",
        "x2 = int(input(\"작은 원의 중심좌표 x2: \"))\n",
        "y2 = int(input(\"작은 원의 중심좌표 y2: \"))\n",
        "r2 = int(input(\"작은 원의 반지름: \"))\n",
        "t.penup()\n",
        "t.goto(x1, y1)\n",
        "t.pendown()\n",
        "t.circle(r1)\n",
        "t.penup()\n",
        "t.goto(x2, y2)\n",
        "t.pendown()\n",
        "t.circle(r2)\n",
        "dist = ((x1 - x2) * (x1 - x2) + (y1 - y2) * (y1 - y2)) ** 0.5\n",
        "if dist <= r1-r2:\n",
        " turtle.write(\"두번째 원이 첫번째 원의 내부에 있습니다.\")\n",
        "elif dist <= r1+r2:\n",
        " turtle.write(\"두번째 원이 첫번째 원과 겹칩니다.\")\n",
        "else:\n",
        " turtle.write(\"두번째 원이 첫번째 원과 겹치지 않습니다.\")\n",
        "t._screen.exitonclick() # 화면을 마우스로 클릭해야 종료되게 하는 부분"
      ],
      "metadata": {
        "id": "icUwoKKEFjdD"
      },
      "execution_count": null,
      "outputs": []
    }
  ]
}